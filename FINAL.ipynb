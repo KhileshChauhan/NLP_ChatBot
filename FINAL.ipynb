{
 "cells": [
  {
   "cell_type": "code",
   "execution_count": 1,
   "metadata": {},
   "outputs": [],
   "source": [
    "import io\n",
    "import random\n",
    "import string \n",
    "import warnings\n",
    "import numpy as np\n",
    "from tkinter import *\n",
    "from sklearn.feature_extraction.text import TfidfVectorizer\n",
    "from sklearn.metrics.pairwise import cosine_similarity\n",
    "import warnings\n",
    "import nltk\n",
    "from nltk.corpus import webtext\n",
    "from nltk.collocations import BigramCollocationFinder\n",
    "from nltk.metrics import BigramAssocMeasures\n",
    "warnings.filterwarnings('ignore')"
   ]
  },
  {
   "cell_type": "code",
   "execution_count": 2,
   "metadata": {},
   "outputs": [],
   "source": [
    "class admin:\n",
    "    def newquestions(self,user_response):\n",
    "        k=open(\"question.txt\",\"a\")\n",
    "        k.write(\"\\n\"+user_response)\n",
    "        k.close()"
   ]
  },
  {
   "cell_type": "code",
   "execution_count": 3,
   "metadata": {},
   "outputs": [],
   "source": [
    "class processing:\n",
    "    def __init__(self):\n",
    "        f=open('chatbot.txt','r',errors = 'ignore')\n",
    "        raw=f.read()\n",
    "        raw = raw.lower()\n",
    "        global sent_tokens\n",
    "        global word_tokens\n",
    "        global lemmer\n",
    "        global remove_punct_dict\n",
    "        sent_tokens = nltk.sent_tokenize(raw) \n",
    "        word_tokens = nltk.word_tokenize(raw)\n",
    "        lemmer = nltk.stem.WordNetLemmatizer()\n",
    "        remove_punct_dict = dict((ord(punct), None) for punct in string.punctuation)\n",
    "        \n",
    "    def LemTokens(self,tokens):\n",
    "        return [lemmer.lemmatize(token) for token in tokens]\n",
    "    def LemNormalize(self,text):\n",
    "        return self.LemTokens(nltk.word_tokenize(text.lower().translate(remove_punct_dict)))\n",
    "    def greeting(self,sentence):\n",
    "        GREETING_INPUTS = (\"hello\", \"hi\", \"greetings\", \"sup\", \"what's up\",\"hey\",\"hai\")\n",
    "        GREETING_RESPONSES = [\"hi\", \"hey\", \"*nods*\", \"hi there\", \"hello\", \"I am glad! You are talking to me\"]\n",
    "        for word in sentence.split():\n",
    "            if word.lower() in GREETING_INPUTS:\n",
    "                return random.choice(GREETING_RESPONSES)"
   ]
  },
  {
   "cell_type": "code",
   "execution_count": 4,
   "metadata": {},
   "outputs": [],
   "source": [
    "class user(processing):\n",
    "    def response(self,user_response):\n",
    "        a=admin()\n",
    "        robo_response=''\n",
    "        sent_tokens.append(user_response)\n",
    "        TfidfVec = TfidfVectorizer(tokenizer=self.LemNormalize, stop_words='english')\n",
    "        tfidf = TfidfVec.fit_transform(sent_tokens)\n",
    "        vals = cosine_similarity(tfidf[-1], tfidf)\n",
    "        idx=vals.argsort()[0][-2]\n",
    "        flat = vals.flatten()\n",
    "        flat.sort()\n",
    "        req_tfidf = flat[-2]\n",
    "        print(req_tfidf)\n",
    "        if(req_tfidf==0):\n",
    "            robo_response=robo_response+\"I am sorry! I don't understand you\"\n",
    "            a.newquestions(user_response)\n",
    "            return robo_response\n",
    "            \n",
    "        else:\n",
    "            robo_response = robo_response+sent_tokens[idx]\n",
    "            return robo_response\n",
    "    def chatbot(self):\n",
    "        \n",
    "        p=processing()\n",
    "        root=Tk()\n",
    "        root.title(\"FLEXA BOT(A FLEXIBLE ANSWERABLE BOT)\")\n",
    "        def send():\n",
    "            txt.config(state=NORMAL)\n",
    "            send=\"You : \"+e.get()\n",
    "            txt.insert(END,\"\\n\"+send)\n",
    "            user_response=e.get().lower()\n",
    "            e.delete(0,END)\n",
    "            if(user_response!='bye'):\n",
    "                if(user_response=='thanks' or user_response=='thank you' ):\n",
    "                    txt.insert(END,\"\\n\"+\"FLEXA: You are welcome..\")\n",
    "                else:\n",
    "                    if(p.greeting(user_response)!=None):\n",
    "                        txt.insert(END,\"\\n\"+\"FLEXA: \"+self.greeting(user_response))\n",
    "                    else:\n",
    "                        txt.insert(END,\"\\n\"+\"FLEXA: \"+self.response(user_response))\n",
    "                        sent_tokens.remove(user_response)\n",
    "            else:\n",
    "                print(\"FLEXA: Bye! take care..\")\n",
    "                txt.insert(END,\"\\n\"+\"FLEXA: Bye! take care..\")\n",
    "                root.destroy()\n",
    "            txt.config(state=DISABLED)    \n",
    "        txt=Text(root)\n",
    "        txt.grid(row=0,column=0,columnspan=2)\n",
    "        e=Entry(root,width=100)\n",
    "        txt.insert(END,'\\n'+\"FLEXA: Hai i am Flexa.If you want to exit, type Bye!\")\n",
    "        txt.config(state=DISABLED)\n",
    "        send=Button(root,text=\"SEND\", command=send , bg='yellow').grid(row=1,column=1)\n",
    "        e.grid(row=1,column=0)\n",
    "        root.mainloop()"
   ]
  },
  {
   "cell_type": "code",
   "execution_count": 5,
   "metadata": {},
   "outputs": [
    {
     "name": "stdout",
     "output_type": "stream",
     "text": [
      "0.6642346885247511\n",
      "0.0\n",
      "0.57014911625153\n",
      "0.0\n",
      "FLEXA: Bye! take care..\n"
     ]
    },
    {
     "name": "stderr",
     "output_type": "stream",
     "text": [
      "Exception in Tkinter callback\n",
      "Traceback (most recent call last):\n",
      "  File \"E:\\anaconda\\lib\\tkinter\\__init__.py\", line 1705, in __call__\n",
      "    return self.func(*args)\n",
      "  File \"<ipython-input-4-be6b3d6f7fa1>\", line 46, in send\n",
      "    txt.config(state=DISABLED)\n",
      "  File \"E:\\anaconda\\lib\\tkinter\\__init__.py\", line 1485, in configure\n",
      "    return self._configure('configure', cnf, kw)\n",
      "  File \"E:\\anaconda\\lib\\tkinter\\__init__.py\", line 1476, in _configure\n",
      "    self.tk.call(_flatten((self._w, cmd)) + self._options(cnf))\n",
      "_tkinter.TclError: invalid command name \".!text\"\n"
     ]
    }
   ],
   "source": [
    "c = user()\n",
    "c.chatbot()"
   ]
  },
  {
   "cell_type": "code",
   "execution_count": 1,
   "metadata": {},
   "outputs": [
    {
     "name": "stdout",
     "output_type": "stream",
     "text": [
      "95.9867568\n"
     ]
    }
   ],
   "source": [
    "acc=nltk.Accuracy(user_response,req_tfid)\n",
    "print(acc)"
   ]
  },
  {
   "cell_type": "code",
   "execution_count": null,
   "metadata": {},
   "outputs": [],
   "source": []
  }
 ],
 "metadata": {
  "kernelspec": {
   "display_name": "Python 3",
   "language": "python",
   "name": "python3"
  },
  "language_info": {
   "codemirror_mode": {
    "name": "ipython",
    "version": 3
   },
   "file_extension": ".py",
   "mimetype": "text/x-python",
   "name": "python",
   "nbconvert_exporter": "python",
   "pygments_lexer": "ipython3",
   "version": "3.7.3"
  }
 },
 "nbformat": 4,
 "nbformat_minor": 2
}
